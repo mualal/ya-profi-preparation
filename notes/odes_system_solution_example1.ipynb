{
 "cells": [
  {
   "attachments": {},
   "cell_type": "markdown",
   "metadata": {},
   "source": [
    "## Моделирование притока нефтегазовой смеси к вскрывающей цилиндрический пласт вертикальной скважине\n",
    "\n",
    "Система уравнений фильтрации относительно неизвестных величин $p=p(r,t)$, $S_g=S_g(r,t)$, $S_o=S_o(r,t)$\n",
    "\n",
    "в области $(r,t)\\in (r_w,R_c)\\times (0,T]$:\n",
    "\n",
    "<br>\n",
    "\n",
    "$$\n",
    "\\begin{cases}\n",
    "\\varphi\\,\\dfrac{\\partial}{\\partial t}\\!\\left(\\dfrac{S_o}{B_o}\\right)=\\dfrac{k}{r}\\,\\dfrac{\\partial}{\\partial r}\\!\\left(r\\dfrac{k_o}{\\mu_o B_o}\\dfrac{\\partial p}{\\partial r}\\right),\\,\\,\\,r\\in(r_w,R_c)\\\\\n",
    "\\\\\n",
    "\\varphi\\,\\dfrac{\\partial}{\\partial t}\\!\\left(\\dfrac{S_g}{B_g}+\\dfrac{R_sS_o}{B_o}\\right)=\\dfrac{k}{r}\\,\\dfrac{\\partial}{\\partial r}\\!\\left(r\\left(\\dfrac{k_g}{\\mu_g B_g}+R_s\\dfrac{k_o}{\\mu_o B_o}\\right)\\dfrac{\\partial p}{\\partial r}\\right),\\,\\,\\,r\\in(r_w,R_c)\\\\\n",
    "\\\\\n",
    "S_o+S_g=1\n",
    "\\end{cases}\n",
    "$$\n",
    "\n",
    "<br>\n",
    "\n",
    "Здесь $B_o=B_o(p)$, $B_g=B_g(p)$, $\\mu_o=\\mu_o(p)$, $\\mu_g=\\mu_g(p)$, $R_s=R_s(p)$, $k_o=k_o(S_o)$, $k_g=k_g(S_g)$ -- известные зависимости."
   ]
  },
  {
   "cell_type": "code",
   "execution_count": null,
   "metadata": {},
   "outputs": [],
   "source": []
  }
 ],
 "metadata": {
  "language_info": {
   "name": "python"
  },
  "orig_nbformat": 4
 },
 "nbformat": 4,
 "nbformat_minor": 2
}
