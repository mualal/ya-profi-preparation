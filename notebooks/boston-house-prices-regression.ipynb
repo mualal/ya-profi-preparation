{
 "cells": [
  {
   "cell_type": "code",
   "execution_count": null,
   "metadata": {},
   "outputs": [],
   "source": []
  }
 ],
 "metadata": {
  "kernelspec": {
   "display_name": "ya-profi-preparation-env",
   "language": "python",
   "name": "python3"
  },
  "language_info": {
   "name": "python",
   "version": "3.10.9"
  },
  "orig_nbformat": 4,
  "vscode": {
   "interpreter": {
    "hash": "578278a66f16763a248d15490e7cf8f5f80a3ad055b4729121a3487addb4ff7e"
   }
  }
 },
 "nbformat": 4,
 "nbformat_minor": 2
}
